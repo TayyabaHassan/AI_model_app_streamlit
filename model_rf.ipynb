{
 "cells": [
  {
   "cell_type": "markdown",
   "id": "19109e28",
   "metadata": {},
   "source": [
    "### Import Libraries"
   ]
  },
  {
   "cell_type": "code",
   "execution_count": null,
   "id": "d0ef49ce",
   "metadata": {},
   "outputs": [],
   "source": [
    "import numpy as np\n",
    "import pandas as pd"
   ]
  },
  {
   "cell_type": "markdown",
   "id": "d7d70660",
   "metadata": {},
   "source": [
    "### Load Dataset"
   ]
  },
  {
   "cell_type": "code",
   "execution_count": null,
   "id": "759216dd",
   "metadata": {},
   "outputs": [],
   "source": [
    "import pandas as pd\n",
    "df = pd.read_csv('survey.csv')\n"
   ]
  },
  {
   "cell_type": "code",
   "execution_count": null,
   "id": "9e211ea6",
   "metadata": {},
   "outputs": [],
   "source": [
    "# Preview the dataset\n",
    "print(df.head())\n",
    "\n",
    "# Check dimensions\n",
    "print(\"Shape:\", df.shape)\n",
    "\n",
    "# Check data types and missing values\n",
    "print(df.info())\n",
    "\n",
    "# Summary statistics for numerical columns\n",
    "print(df.describe())\n",
    "#print(\"Duplicate Rows:\", df.duplicated().sum())\n",
    "\n",
    "# Drop irrelevant columns for EDA\n",
    "df.drop(columns=[\"Timestamp\", \"state\", \"comments\",\"self_employed\"], inplace=True)\n",
    "\n"
   ]
  },
  {
   "cell_type": "markdown",
   "id": "18cf9b08",
   "metadata": {},
   "source": [
    "## EDA"
   ]
  },
  {
   "cell_type": "markdown",
   "id": "d2dc2f9a",
   "metadata": {},
   "source": [
    "### Summary Statistics (mean, median, mode, etc.)"
   ]
  },
  {
   "cell_type": "code",
   "execution_count": null,
   "id": "386f80ec",
   "metadata": {},
   "outputs": [],
   "source": [
    "print(df.describe(include='all'))\n",
    "print(\"Mode values:\\n\", df.mode().iloc[0])\n"
   ]
  },
  {
   "cell_type": "markdown",
   "id": "3bb0c164",
   "metadata": {},
   "source": [
    " ### Missing Value Analysis"
   ]
  },
  {
   "cell_type": "code",
   "execution_count": null,
   "id": "dc0d7c0c",
   "metadata": {},
   "outputs": [],
   "source": [
    "print(df.isnull().sum())\n",
    "import seaborn as sns\n",
    "import matplotlib.pyplot as plt\n",
    "\n",
    "plt.figure(figsize=(10, 6))\n",
    "sns.heatmap(df.isnull(), cbar=False)\n",
    "plt.title(\"Missing Values Heatmap\")\n",
    "plt.show()\n"
   ]
  },
  {
   "cell_type": "markdown",
   "id": "f9054e66",
   "metadata": {},
   "source": [
    "### Data Types & Unique Value Counts"
   ]
  },
  {
   "cell_type": "code",
   "execution_count": null,
   "id": "bcada4ec",
   "metadata": {},
   "outputs": [],
   "source": [
    "print(df.dtypes)\n",
    "print(\"\\nUnique values per column:\\n\", df.nunique())\n"
   ]
  },
  {
   "cell_type": "markdown",
   "id": "0236982a",
   "metadata": {},
   "source": [
    "### Outlier Detection (e.g., for Age)"
   ]
  },
  {
   "cell_type": "code",
   "execution_count": null,
   "id": "0f42b38a",
   "metadata": {},
   "outputs": [],
   "source": [
    "plt.figure()\n",
    "sns.boxplot(x=df['Age'])\n",
    "plt.title(\"Age Outlier Detection\")\n",
    "plt.show()\n",
    "print(\"Ages under 18 or over 80:\\n\", df[(df['Age'] < 18) | (df['Age'] > 80)])\n"
   ]
  },
  {
   "cell_type": "markdown",
   "id": "d862ad85",
   "metadata": {},
   "source": [
    "### Feature Distribution (Histogram)"
   ]
  },
  {
   "cell_type": "code",
   "execution_count": null,
   "id": "4df5bb29",
   "metadata": {},
   "outputs": [],
   "source": [
    "\n",
    "sns.histplot(df['Age'], bins=30)\n",
    "plt.title(\"Age Distribution\")\n",
    "plt.xlabel(\"Age\")\n",
    "plt.ylabel(\"Frequency\")\n",
    "plt.show()\n",
    "\n"
   ]
  },
  {
   "cell_type": "markdown",
   "id": "3d8da9d6",
   "metadata": {},
   "source": [
    "### Gender Distribution"
   ]
  },
  {
   "cell_type": "code",
   "execution_count": null,
   "id": "6fbca627",
   "metadata": {},
   "outputs": [],
   "source": [
    "\n",
    "sns.countplot(x='Gender', data=df)\n",
    "plt.title(\"Gender Distribution\")\n",
    "plt.xticks(rotation=45)\n",
    "plt.show()"
   ]
  },
  {
   "cell_type": "markdown",
   "id": "9c2f6fe0",
   "metadata": {},
   "source": [
    "### Target Variable (Treatment) Distribution"
   ]
  },
  {
   "cell_type": "code",
   "execution_count": null,
   "id": "ee2dfb97",
   "metadata": {},
   "outputs": [],
   "source": [
    "\n",
    "sns.countplot(x='treatment', data=df)\n",
    "plt.title(\"Treatment Distribution\")\n",
    "plt.show()"
   ]
  },
  {
   "cell_type": "markdown",
   "id": "b01611d1",
   "metadata": {},
   "source": [
    "### Work Interfere vs Treatment\n"
   ]
  },
  {
   "cell_type": "code",
   "execution_count": null,
   "id": "a91cd325",
   "metadata": {},
   "outputs": [],
   "source": [
    "sns.countplot(x='work_interfere', hue='treatment', data=df)\n",
    "plt.title(\"Work Interfere vs Treatment\")\n",
    "plt.xticks(rotation=45)\n",
    "plt.show()"
   ]
  },
  {
   "cell_type": "markdown",
   "id": "d7311882",
   "metadata": {},
   "source": [
    "### Remote Work vs Treatment\n"
   ]
  },
  {
   "cell_type": "code",
   "execution_count": null,
   "id": "4021b845",
   "metadata": {},
   "outputs": [],
   "source": [
    "sns.countplot(x='remote_work', hue='treatment', data=df)\n",
    "plt.title(\"Remote Work vs Treatment\")\n",
    "plt.show()"
   ]
  },
  {
   "cell_type": "markdown",
   "id": "43b6090c",
   "metadata": {},
   "source": [
    "### Country-wise Treatment Rate\n"
   ]
  },
  {
   "cell_type": "code",
   "execution_count": null,
   "id": "8cfc177b",
   "metadata": {},
   "outputs": [],
   "source": [
    "country_treatment = df.groupby('Country')['treatment'].value_counts(normalize=True).unstack()\n",
    "country_treatment.plot(kind='bar', stacked=True, figsize=(12, 6))\n",
    "plt.title(\"Treatment by Country\")\n",
    "plt.ylabel(\"Proportion\")\n",
    "plt.show()"
   ]
  },
  {
   "cell_type": "markdown",
   "id": "eb31f1da",
   "metadata": {},
   "source": [
    "### Anonymity vs Seek Help\n"
   ]
  },
  {
   "cell_type": "code",
   "execution_count": null,
   "metadata": {},
   "outputs": [],
   "source": [
    "sns.countplot(x='anonymity', hue='seek_help', data=df)\n",
    "plt.title(\"Anonymity vs Seek Help\")\n",
    "plt.xticks(rotation=45)\n",
    "plt.show()\n"
   ]
  },
  {
   "cell_type": "markdown",
   "id": "6375e52b",
   "metadata": {},
   "source": [
    "### Grouped Aggregation - Family History vs Treatment"
   ]
  },
  {
   "cell_type": "code",
   "execution_count": null,
   "id": "8c892da7",
   "metadata": {},
   "outputs": [],
   "source": [
    "\n",
    "print(\"\\nFamily History vs Treatment:\\n\")\n",
    "print(df.groupby('family_history')['treatment'].value_counts(normalize=True))\n"
   ]
  },
  {
   "cell_type": "markdown",
   "id": "44ec6a40",
   "metadata": {},
   "source": [
    "### Care Options vs Treatment"
   ]
  },
  {
   "cell_type": "code",
   "execution_count": null,
   "id": "73b47606",
   "metadata": {},
   "outputs": [],
   "source": [
    "sns.countplot(x='care_options', hue='treatment', data=df)\n",
    "plt.title(\"Care Options vs Treatment\")\n",
    "plt.xticks(rotation=45)\n",
    "plt.show()"
   ]
  },
  {
   "cell_type": "markdown",
   "id": "d861a662",
   "metadata": {},
   "source": [
    "### Mental vs Physical Health Consequence\n"
   ]
  },
  {
   "cell_type": "code",
   "execution_count": null,
   "id": "ebb729e6",
   "metadata": {},
   "outputs": [],
   "source": [
    "sns.countplot(x='mental_vs_physical', hue='treatment', data=df)\n",
    "plt.title(\"Mental vs Physical Health Perception vs Treatment\")\n",
    "plt.xticks(rotation=45)\n",
    "plt.show()"
   ]
  },
  {
   "cell_type": "markdown",
   "id": "ed2b8102",
   "metadata": {},
   "source": [
    "### Correlation Heatmap (on encoded categorical data for analysis only)"
   ]
  },
  {
   "cell_type": "code",
   "execution_count": null,
   "id": "f373608c",
   "metadata": {},
   "outputs": [],
   "source": [
    "\n",
    "df_encoded = df.copy()\n",
    "df_encoded = df_encoded.apply(lambda col: pd.factorize(col)[0] if col.dtypes == 'object' else col)\n",
    "plt.figure(figsize=(12, 8))\n",
    "sns.heatmap(df_encoded.corr(), annot=True, cmap='coolwarm', fmt='.2f')\n",
    "plt.title(\"Feature Correlation Heatmap\")\n",
    "plt.show()\n"
   ]
  },
  {
   "cell_type": "markdown",
   "id": "92e72046",
   "metadata": {},
   "source": [
    "### Pairwise Feature Relationships\n"
   ]
  },
  {
   "cell_type": "code",
   "execution_count": null,
   "id": "7c9fe6af",
   "metadata": {},
   "outputs": [],
   "source": [
    "from sklearn.preprocessing import LabelEncoder\n",
    "import seaborn as sns\n",
    "import matplotlib.pyplot as plt\n",
    "\n",
    "pairplot_df = df[['Age', 'Gender', 'remote_work', 'treatment']].copy()\n",
    "le = LabelEncoder()\n",
    "pairplot_df['Gender'] = le.fit_transform(pairplot_df['Gender'])\n",
    "pairplot_df['remote_work'] = le.fit_transform(pairplot_df['remote_work'])\n",
    "pairplot_df['treatment'] = le.fit_transform(pairplot_df['treatment'])\n",
    "\n",
    "sample_df = pairplot_df.sample(n=300, random_state=42)\n",
    "\n",
    "sns.pairplot(sample_df)\n",
    "plt.suptitle(\"Pairwise Feature Relationships\", y=1.02)\n",
    "plt.show()\n"
   ]
  },
  {
   "cell_type": "markdown",
   "id": "f9a50ce1",
   "metadata": {},
   "source": [
    "# Data Preprocessing"
   ]
  },
  {
   "cell_type": "markdown",
   "id": "709ca5c5",
   "metadata": {},
   "source": [
    "### Check for Missing Values"
   ]
  },
  {
   "cell_type": "code",
   "execution_count": null,
   "id": "be32dbb6",
   "metadata": {},
   "outputs": [],
   "source": [
    "\n",
    "print(\"\\nMissing values in each column:\")\n",
    "print(df.isnull().sum())\n",
    "print()\n",
    "df['self_employed'].fillna(df['self_employed'].mode()[0], inplace=True)\n",
    "df['work_interfere'].fillna(df['work_interfere'].mode()[0], inplace=True)"
   ]
  },
  {
   "cell_type": "markdown",
   "id": "681821ff",
   "metadata": {},
   "source": [
    "### Clean and Encode Categorical Variables"
   ]
  },
  {
   "cell_type": "code",
   "execution_count": null,
   "id": "3ac6a422",
   "metadata": {},
   "outputs": [],
   "source": [
    "def clean_gender(g):\n",
    "    g = str(g).strip().lower()\n",
    "    if g in ['male', 'm', 'man']:\n",
    "        return 'Male'\n",
    "    elif g in ['female', 'f', 'woman']:\n",
    "        return 'Female'\n",
    "    else:\n",
    "        return 'Other'\n",
    "\n",
    "df['Gender'] = df['Gender'].apply(clean_gender)\n"
   ]
  },
  {
   "cell_type": "markdown",
   "id": "a02fc6cb",
   "metadata": {},
   "source": [
    "### Label Encode all categorical features"
   ]
  },
  {
   "cell_type": "code",
   "execution_count": null,
   "id": "ff6d9d7d",
   "metadata": {},
   "outputs": [],
   "source": [
    "from sklearn.preprocessing import LabelEncoder\n",
    "import joblib\n",
    "\n",
    "encoders = {}\n",
    "categorical_columns = ['Gender', 'remote_work', 'family_history', 'work_interfere',\n",
    "                       'benefits', 'anonymity', 'leave']\n",
    "\n",
    "for col in categorical_columns:\n",
    "    le = LabelEncoder()\n",
    "    df[col] = le.fit_transform(df[col])\n",
    "    encoders[col] = le\n",
    "\n",
    "joblib.dump(encoders, 'encoders.pkl')\n"
   ]
  },
  {
   "cell_type": "markdown",
   "id": "e67f8572",
   "metadata": {},
   "source": [
    "### Normalize/Scale Numerical Features\n"
   ]
  },
  {
   "cell_type": "code",
   "execution_count": null,
   "id": "df5bf615",
   "metadata": {},
   "outputs": [],
   "source": [
    "from sklearn.preprocessing import MinMaxScaler\n",
    "scaler = MinMaxScaler()\n",
    "df['Age'] = scaler.fit_transform(df[['Age']])\n"
   ]
  },
  {
   "cell_type": "markdown",
   "id": "83460fab",
   "metadata": {},
   "source": [
    "### Split Into Training and Testing Sets"
   ]
  },
  {
   "cell_type": "code",
   "execution_count": null,
   "id": "f98ec998",
   "metadata": {},
   "outputs": [],
   "source": [
    "from sklearn.model_selection import train_test_split\n",
    "X = df.drop('treatment', axis=1)\n",
    "y = df['treatment']\n",
    "\n",
    "X_train, X_test, y_train, y_test = train_test_split(X, y, test_size=0.2, random_state=42)\n",
    "\n",
    "# 6. Confirm shapes\n",
    "print(\"X_train shape:\", X_train.shape)\n",
    "print(\"X_test shape:\", X_test.shape)\n",
    "print(\"y_train shape:\", y_train.shape)\n",
    "print(\"y_test shape:\", y_test.shape)\n",
    "\n",
    "joblib.dump(X.columns.tolist(), 'model_columns.pkl')\n",
    "\n"
   ]
  },
  {
   "cell_type": "markdown",
   "id": "a0230079",
   "metadata": {},
   "source": [
    "# Train  Model"
   ]
  },
  {
   "cell_type": "markdown",
   "id": "a618e374",
   "metadata": {},
   "source": [
    "#  Random Forest Classification\n",
    "\n",
    "\n",
    "\n",
    "\n",
    "\n",
    "\n"
   ]
  },
  {
   "cell_type": "code",
   "execution_count": null,
   "id": "de676713",
   "metadata": {},
   "outputs": [],
   "source": [
    "from sklearn.ensemble import RandomForestClassifier\n",
    "from sklearn.metrics import accuracy_score, f1_score, confusion_matrix, classification_report, mean_squared_error"
   ]
  },
  {
   "cell_type": "code",
   "execution_count": null,
   "id": "eaadce1c",
   "metadata": {},
   "outputs": [],
   "source": [
    "# 1. Initialize and train the model\n",
    "model = RandomForestClassifier(random_state=42)\n",
    "model.fit(X_train, y_train)"
   ]
  },
  {
   "cell_type": "code",
   "execution_count": null,
   "id": "46339422",
   "metadata": {},
   "outputs": [],
   "source": [
    "# 2. Predict on test set\n",
    "y_pred = model.predict(X_test)"
   ]
  },
  {
   "cell_type": "code",
   "execution_count": null,
   "id": "b35eefba",
   "metadata": {},
   "outputs": [],
   "source": [
    "from sklearn.metrics import accuracy_score, f1_score, mean_squared_error, classification_report, confusion_matrix\n",
    "import numpy as np\n",
    "\n",
    "accuracy = accuracy_score(y_test, y_pred)\n",
    "f1 = f1_score(y_test, y_pred)\n",
    "rmse = np.sqrt(mean_squared_error(y_test, y_pred))  # <- fix here\n",
    "\n",
    "print(\"Accuracy:\", accuracy)\n",
    "print(\"F1 Score:\", f1)\n",
    "print(\"RMSE:\", rmse)\n",
    "print(\"\\nClassification Report:\\n\", classification_report(y_test, y_pred))\n",
    "print(\"Confusion Matrix:\\n\", confusion_matrix(y_test, y_pred))\n"
   ]
  },
  {
   "cell_type": "code",
   "execution_count": null,
   "id": "4329b5d4",
   "metadata": {},
   "outputs": [],
   "source": [
    "import joblib\n",
    "\n",
    "# Save the model\n",
    "joblib.dump(model, 'model.pkl')\n",
    "\n",
    "# Optionally save the encoder/scaler if used\n",
    "joblib.dump(scaler, 'scaler.pkl')  # if you used a scaler\n",
    "joblib.dump(le, 'label_encoder.pkl')  # if you're using label encoder\n",
    "\n"
   ]
  },
  {
   "cell_type": "code",
   "execution_count": null,
   "id": "409e7a74",
   "metadata": {},
   "outputs": [],
   "source": []
  },
  {
   "cell_type": "code",
   "execution_count": null,
   "id": "db6e30ad",
   "metadata": {},
   "outputs": [],
   "source": []
  },
  {
   "cell_type": "code",
   "execution_count": null,
   "id": "6747f7a0",
   "metadata": {},
   "outputs": [],
   "source": []
  },
  {
   "cell_type": "code",
   "execution_count": null,
   "metadata": {},
   "outputs": [],
   "source": []
  },
  {
   "cell_type": "markdown",
   "metadata": {},
   "source": []
  }
 ],
 "metadata": {
  "kernelspec": {
   "display_name": "Python 3",
   "language": "python",
   "name": "python3"
  },
  "language_info": {
   "codemirror_mode": {
    "name": "ipython",
    "version": 3
   },
   "file_extension": ".py",
   "mimetype": "text/x-python",
   "name": "python",
   "nbconvert_exporter": "python",
   "pygments_lexer": "ipython3",
   "version": "3.11.5"
  }
 },
 "nbformat": 4,
 "nbformat_minor": 5
}
